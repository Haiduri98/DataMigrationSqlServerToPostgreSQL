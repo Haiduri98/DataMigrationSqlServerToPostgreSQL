{
 "cells": [
  {
   "metadata": {},
   "cell_type": "markdown",
   "source": [
    "## Install pyodbc\n",
    "Did that using conda\n"
   ],
   "id": "fba2fe031774de32"
  },
  {
   "metadata": {},
   "cell_type": "markdown",
   "source": "## Import libraries",
   "id": "ec001afac3ee20ec"
  },
  {
   "metadata": {},
   "cell_type": "markdown",
   "source": "Database details",
   "id": "73e7a862ba788476"
  },
  {
   "metadata": {
    "ExecuteTime": {
     "end_time": "2024-10-12T19:46:12.790911Z",
     "start_time": "2024-10-12T19:46:12.787851Z"
    }
   },
   "cell_type": "code",
   "source": [
    "import pyodbc\n",
    "import pandas as pd\n",
    "from IPython.display import display\n",
    "from sqlalchemy import create_engine, text\n",
    "import os\n",
    "\n",
    "# Connection parameters\n",
    "server_sqlserver = 'localhost'\n",
    "port_sqlserver = '1433'\n",
    "database_sqlserver = 'AdventureWorksDW2019'\n",
    "username_sqlserver = 'sa'\n",
    "password_sqlserver = 'YourStrong!Passw0rd'\n",
    "\n",
    "\n",
    "\n",
    "server_ps = 'localhost'\n",
    "port_ps = '5432'\n",
    "database_ps = 'AdventureWorks'\n",
    "username_ps = 'root'\n",
    "password_ps = 'root'\n",
    "\n",
    "\n",
    "# connection_string_sqlserver = f'DRIVER={{ODBC Driver 17 for SQL Server}};SERVER={server_sqlserver},{port_sqlserver};DATABASE={database_sqlserver};UID={username_sqlserver};PWD={password_sqlserver}' # for pyodbc\n",
    "\n",
    "connection_string_sqlserver = f'mssql+pyodbc://{username_sqlserver}:{password_sqlserver}@{server_sqlserver}:{port_sqlserver}/{database_sqlserver}?driver=ODBC+Driver+17+for+SQL+Server'  # for sqlalchemy\n",
    "\n",
    "\n",
    "\n",
    "\n",
    "# Connection string for PostgreSQL\n",
    "connection_string_ps = (\n",
    "    f'postgresql+psycopg2://{username_ps}:{password_ps}'\n",
    "    f'@{server_ps}:{port_ps}/{database_ps}'\n",
    ")\n"
   ],
   "id": "97132fb41daef91f",
   "outputs": [],
   "execution_count": 15
  },
  {
   "metadata": {
    "ExecuteTime": {
     "end_time": "2024-10-12T19:46:12.839938Z",
     "start_time": "2024-10-12T19:46:12.836703Z"
    }
   },
   "cell_type": "code",
   "source": [
    "try:\n",
    "    # engine_sqlserver = create_engine(connection_string_sqlserver)  # for sqlalchemy\n",
    "    # src_conn = pyodbc.connect(connection_string_sqlserver)\n",
    "    print(\"Connected to SqlServer successfully!\\n\")    \n",
    "    \n",
    "    engine_ps = create_engine(connection_string_ps)\n",
    "    print(\"Connected to PostgreSQL successfully!\\n\")\n",
    "except Exception as e:\n",
    "    print(\"Error: \", e)"
   ],
   "id": "9e76ee5aaa08c4f2",
   "outputs": [
    {
     "name": "stdout",
     "output_type": "stream",
     "text": [
      "Connected to SqlServer successfully!\n",
      "\n",
      "Connected to PostgreSQL successfully!\n",
      "\n"
     ]
    }
   ],
   "execution_count": 16
  },
  {
   "metadata": {
    "ExecuteTime": {
     "end_time": "2024-10-12T19:46:12.887777Z",
     "start_time": "2024-10-12T19:46:12.885723Z"
    }
   },
   "cell_type": "code",
   "source": [
    "sql = text(\"\"\"\n",
    "            SELECT t.name AS table_name\n",
    "            FROM sys.tables t \n",
    "            WHERE t.name IN ('DimProduct', 'DimProductSubCategory', 'DimProductCategory', 'DimReseller', 'DimSalesTerritory', 'FactInternetSales')\n",
    "        \"\"\")\n"
   ],
   "id": "49830481c11b020d",
   "outputs": [],
   "execution_count": 17
  },
  {
   "metadata": {},
   "cell_type": "markdown",
   "source": [
    "# ETL Process\n",
    "- extract: get data from a source\n",
    "- transform: structure, format, or clean the data\n",
    "- load: write the data to an external destination"
   ],
   "id": "ed0cf6247f02d102"
  },
  {
   "metadata": {
    "ExecuteTime": {
     "end_time": "2024-10-12T19:46:12.934895Z",
     "start_time": "2024-10-12T19:46:12.932171Z"
    }
   },
   "cell_type": "code",
   "source": [
    "# creating the load function\n",
    "def load(df, tbl):\n",
    "    try:\n",
    "        rows_imported = 0\n",
    "        \n",
    "        print(f'importing rows {rows_imported} to {rows_imported + len(df)}... for table {tbl}')\n",
    "    \n",
    "        # save df to postgres\n",
    "        df.to_sql(f'stg_{tbl}', engine_ps, if_exists='replace', index=False)\n",
    "        print(\"Data imported to final print out\")\n",
    "    except Exception as e:\n",
    "        print(\"Error:\", str(e))\n",
    "    "
   ],
   "id": "2df183560084b57c",
   "outputs": [],
   "execution_count": 18
  },
  {
   "metadata": {
    "ExecuteTime": {
     "end_time": "2024-10-12T19:46:12.981063Z",
     "start_time": "2024-10-12T19:46:12.978470Z"
    }
   },
   "cell_type": "code",
   "source": [
    "# pyodbc for which is not recommend to use therefore i have switched to sqlalchemy\n",
    "# def extract():\n",
    "#     try:\n",
    "#         # Execute a query\n",
    "#             src_cursor = src_conn.cursor()\n",
    "#             src_cursor.execute(sql)\n",
    "#             src_tables =src_cursor.fetchall()\n",
    "# \n",
    "#             for tbl in src_tables:\n",
    "#                 df2 = pd.read_sql_query(f'select * from {tbl[0]}', src_conn)\n",
    "#                 load(df2,tbl[0])\n",
    "#     except Exception as x:\n",
    "#         print(\"Error: \", str(x))"
   ],
   "id": "6a0583f5ecd8cba",
   "outputs": [],
   "execution_count": 19
  },
  {
   "metadata": {
    "ExecuteTime": {
     "end_time": "2024-10-12T19:46:13.026974Z",
     "start_time": "2024-10-12T19:46:13.024249Z"
    }
   },
   "cell_type": "code",
   "source": [
    "def extract(src_conn_string,sql):\n",
    "    try:\n",
    "        engine = create_engine(src_conn_string)\n",
    "\n",
    "        # Execute a query to get the list of tables\n",
    "        with engine.connect() as connection:\n",
    "            result = connection.execute(sql)\n",
    "\n",
    "            src_tables = result.fetchall()\n",
    "\n",
    "            for tbl in src_tables:\n",
    "                table_name = tbl[0]\n",
    "\n",
    "                # Load each table into a DataFrame\n",
    "                df2 = pd.read_sql_query(f'SELECT * FROM {table_name}', connection)\n",
    "\n",
    "                # Call load function to load the DataFrame\n",
    "                load(df2, table_name)\n",
    "\n",
    "    except Exception as e:\n",
    "        print(\"Error: \", str(e))"
   ],
   "id": "d0b63236c987d9d9",
   "outputs": [],
   "execution_count": 20
  },
  {
   "metadata": {
    "ExecuteTime": {
     "end_time": "2024-10-12T19:46:19.667257Z",
     "start_time": "2024-10-12T19:46:13.070057Z"
    }
   },
   "cell_type": "code",
   "source": [
    "try:\n",
    "    extract(connection_string_sqlserver, sql)\n",
    "except Exception as e:\n",
    "    print(\"Error:\", str(e))"
   ],
   "id": "bb53c17c83e06c77",
   "outputs": [
    {
     "name": "stdout",
     "output_type": "stream",
     "text": [
      "importing rows 0 to 606... for table DimProduct\n",
      "Data imported to final print out\n",
      "importing rows 0 to 4... for table DimProductCategory\n",
      "Data imported to final print out\n",
      "importing rows 0 to 37... for table DimProductSubcategory\n",
      "Data imported to final print out\n",
      "importing rows 0 to 701... for table DimReseller\n",
      "Data imported to final print out\n",
      "importing rows 0 to 11... for table DimSalesTerritory\n",
      "Data imported to final print out\n",
      "importing rows 0 to 60398... for table FactInternetSales\n",
      "Data imported to final print out\n"
     ]
    }
   ],
   "execution_count": 21
  },
  {
   "metadata": {
    "ExecuteTime": {
     "end_time": "2024-10-12T19:46:19.674051Z",
     "start_time": "2024-10-12T19:46:19.672638Z"
    }
   },
   "cell_type": "code",
   "source": "",
   "id": "be901a19b2935d7f",
   "outputs": [],
   "execution_count": null
  }
 ],
 "metadata": {
  "kernelspec": {
   "display_name": "Python 3",
   "language": "python",
   "name": "python3"
  },
  "language_info": {
   "codemirror_mode": {
    "name": "ipython",
    "version": 2
   },
   "file_extension": ".py",
   "mimetype": "text/x-python",
   "name": "python",
   "nbconvert_exporter": "python",
   "pygments_lexer": "ipython2",
   "version": "2.7.6"
  }
 },
 "nbformat": 4,
 "nbformat_minor": 5
}
